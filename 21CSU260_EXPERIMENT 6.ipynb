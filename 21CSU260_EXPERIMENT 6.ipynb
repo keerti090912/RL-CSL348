{
 "cells": [
  {
   "cell_type": "code",
   "execution_count": 1,
   "id": "4086a967",
   "metadata": {},
   "outputs": [
    {
     "name": "stdout",
     "output_type": "stream",
     "text": [
      "Current State: 0, Next State: 0\n",
      "Current State: 0, Next State: 0\n",
      "Current State: 0, Next State: 0\n",
      "Current State: 0, Next State: 0\n",
      "Current State: 0, Next State: 0\n",
      "Current State: 1, Next State: 1\n",
      "Current State: 2, Next State: 2\n",
      "Current State: 2, Next State: 2\n",
      "Current State: 0, Next State: 0\n",
      "Current State: 1, Next State: 1\n"
     ]
    }
   ],
   "source": [
    "import numpy as np\n",
    "\n",
    "class MarkovProcess:\n",
    "    def __init__(self, transition_matrix, initial_state):\n",
    "        \"\"\"\n",
    "        Initialize the Markov process\n",
    "        Parameters:\n",
    "            - transition_matrix: a 2D numpy array representing the transition probabilities.\n",
    "            - initial_state: the initial state of the process.\n",
    "        \"\"\"\n",
    "        self.transition_matrix = transition_matrix\n",
    "        self.current_state = initial_state\n",
    "\n",
    "    def step(self):\n",
    "        \"\"\"\n",
    "        Perform one step of the Markov process by transitioning to a new state based on the\n",
    "        probabilities in the transition matrix.\n",
    "        Returns:\n",
    "            - new_state: the new state after the transition.\n",
    "        \"\"\"\n",
    "        transition_probs = self.transition_matrix[self.current_state]\n",
    "        new_state = np.random.choice(len(transition_probs), p=transition_probs)\n",
    "        self.current_state = new_state\n",
    "        return new_state\n",
    "\n",
    "# Example usage\n",
    "def main():\n",
    "    # Define a transition matrix for a simple 3-state Markov chain\n",
    "    # Rows represent current state, columns represent next state\n",
    "    transition_matrix = np.array([\n",
    "        [0.7, 0.2, 0.1],\n",
    "        [0.3, 0.4, 0.3],\n",
    "        [0.1, 0.3, 0.6]\n",
    "    ])\n",
    "    # Initial state\n",
    "    initial_state = 0  # Assuming the initial state is 0\n",
    "    # Create a Markov process\n",
    "    markov_process = MarkovProcess(transition_matrix, initial_state)\n",
    "    # Perform 10 steps of the Markov process\n",
    "    for _ in range(10):\n",
    "        new_state = markov_process.step()\n",
    "        print(f\"Current State: {markov_process.current_state}, Next State: {new_state}\")\n",
    "\n",
    "if __name__ == \"__main__\":\n",
    "    main()"
   ]
  },
  {
   "cell_type": "code",
   "execution_count": null,
   "id": "37ea175a",
   "metadata": {},
   "outputs": [],
   "source": []
  }
 ],
 "metadata": {
  "kernelspec": {
   "display_name": "Python 3 (ipykernel)",
   "language": "python",
   "name": "python3"
  },
  "language_info": {
   "codemirror_mode": {
    "name": "ipython",
    "version": 3
   },
   "file_extension": ".py",
   "mimetype": "text/x-python",
   "name": "python",
   "nbconvert_exporter": "python",
   "pygments_lexer": "ipython3",
   "version": "3.9.12"
  }
 },
 "nbformat": 4,
 "nbformat_minor": 5
}
