{
  "nbformat": 4,
  "nbformat_minor": 0,
  "metadata": {
    "colab": {
      "provenance": []
    },
    "kernelspec": {
      "name": "python3",
      "display_name": "Python 3"
    },
    "language_info": {
      "name": "python"
    }
  },
  "cells": [
    {
      "cell_type": "code",
      "execution_count": null,
      "metadata": {
        "colab": {
          "base_uri": "https://localhost:8080/"
        },
        "id": "1vmOVrF8WvgH",
        "outputId": "eaa22b2e-75b2-48fe-cdc4-7312a81ab156"
      },
      "outputs": [
        {
          "output_type": "stream",
          "name": "stdout",
          "text": [
            "Cumulative Reward: 7057.326607694574\n",
            "Average Reward: 7.06\n",
            "Machine a - True Mean: 4, Estimated Mean: 3.80, Times Selected: 1.0\n",
            "Machine b - True Mean: 3, Estimated Mean: 1.81, Times Selected: 1.0\n",
            "Machine c - True Mean: 5, Estimated Mean: 5.38, Times Selected: 1.0\n",
            "Machine d - True Mean: 7, Estimated Mean: 7.07, Times Selected: 996.0\n",
            "Machine e - True Mean: 2, Estimated Mean: 1.82, Times Selected: 1.0\n"
          ]
        }
      ],
      "source": [
        "import numpy as np\n",
        "\n",
        "num_arms = 5\n",
        "\n",
        "num_trials = 1000\n",
        "\n",
        "true_means = np.array([4,3,5,7,2])\n",
        "\n",
        "estimates = np.ones(num_arms) * 10\n",
        "\n",
        "# Initialize counts for each machine (number of times it was selected)\n",
        "counts = np.zeros(num_arms)\n",
        "\n",
        "cumulative_reward = 0\n",
        "average_rewards = [0] * num_arms\n",
        "\n",
        "# Perform the trials\n",
        "for t in range(1, num_trials + 1):\n",
        "    # Exploration phase (randomly select a machine)\n",
        "    if t <= num_arms:\n",
        "        action = t - 1  # Select each machine once in the initial phase\n",
        "    # Exploitation phase (select the machine with the highest estimated reward)\n",
        "    else:\n",
        "        action = np.argmax(estimates)\n",
        "\n",
        "    reward = np.random.normal(true_means[action], 1)\n",
        "\n",
        "    counts[action] += 1\n",
        "    cumulative_reward += reward\n",
        "\n",
        "\n",
        "    estimates[action] += (reward - estimates[action]) / counts[action]\n",
        "\n",
        "\n",
        "    for arm in range(num_arms):\n",
        "        average_rewards[arm] += (reward - average_rewards[arm]) / t\n",
        "\n",
        "# Print cumulative reward and average rewards per machine\n",
        "print(f\"Cumulative Reward: {cumulative_reward}\")\n",
        "print(f\"Average Reward: {average_rewards[i]:.2f}\")\n",
        "for i in range(num_arms):\n",
        "    print(f\"Machine {chr(97+i)} - True Mean: {true_means[i]}, Estimated Mean: {estimates[i]:.2f}, \"\n",
        "          f\"Times Selected: {counts[i]}\")"
      ]
    },
    {
      "cell_type": "code",
      "source": [
        "import numpy as np\n",
        "\n",
        "num_arms = 5\n",
        "\n",
        "num_trials = 1000\n",
        "\n",
        "true_means = np.array([4,3,5,7,2])\n",
        "\n",
        "estimates = np.zeros(num_arms)\n",
        "\n",
        "counts = np.zeros(num_arms)\n",
        "\n",
        "cumulative_reward = 0\n",
        "average_rewards = [0] * num_arms\n",
        "\n",
        "epsilon = 0.1\n",
        "\n",
        "for t in range(1, num_trials + 1):\n",
        "    # Select an action\n",
        "    if np.random.random() < epsilon:\n",
        "        # Exploration: randomly select a machine\n",
        "        action = np.random.choice(num_arms)\n",
        "    else:\n",
        "        # Exploitation: select the machine with the highest estimated reward\n",
        "        action = np.argmax(estimates)\n",
        "\n",
        "    reward = np.random.normal(true_means[action], 1)\n",
        "\n",
        "    counts[action] += 1\n",
        "    cumulative_reward += reward\n",
        "\n",
        "    estimates[action] += (reward - estimates[action]) / counts[action]\n",
        "\n",
        "    for arm in range(num_arms):\n",
        "        average_rewards[arm] += (reward - average_rewards[arm]) / t\n",
        "\n",
        "# Print cumulative reward and average rewards per machineprint(f\"Cumulative Reward: {cumulative_reward}\")\n",
        "print(f\"Average Reward: {average_rewards[i]:.2f}\")\n",
        "for i in range(num_arms):\n",
        "    print(f\"Machine {chr(97+i)} - True Mean: {true_means[i]}, Estimated Mean: {estimates[i]:.2f}, \"\n",
        "          f\"Times Selected: {counts[i]}\")"
      ],
      "metadata": {
        "colab": {
          "base_uri": "https://localhost:8080/"
        },
        "id": "oVbD2hMrfP9V",
        "outputId": "ffdb91c7-7d76-46b0-9ca2-1f43745b59c9"
      },
      "execution_count": null,
      "outputs": [
        {
          "output_type": "stream",
          "name": "stdout",
          "text": [
            "Average Reward: 6.70\n",
            "Machine a - True Mean: 4, Estimated Mean: 3.91, Times Selected: 39.0\n",
            "Machine b - True Mean: 3, Estimated Mean: 3.57, Times Selected: 17.0\n",
            "Machine c - True Mean: 5, Estimated Mean: 4.83, Times Selected: 35.0\n",
            "Machine d - True Mean: 7, Estimated Mean: 7.02, Times Selected: 894.0\n",
            "Machine e - True Mean: 2, Estimated Mean: 2.38, Times Selected: 15.0\n"
          ]
        }
      ]
    },
    {
      "cell_type": "code",
      "source": [],
      "metadata": {
        "id": "qH1Fwqj8hCtv"
      },
      "execution_count": null,
      "outputs": []
    },
    {
      "cell_type": "code",
      "source": [
        "import numpy as np\n",
        "\n",
        "num_arms = 5\n",
        "\n",
        "num_trials = 1000\n",
        "\n",
        "true_means = np.array([4, 3, 5, 7, 2])\n",
        "\n",
        "estimates = np.zeros(num_arms)\n",
        "\n",
        "counts = np.zeros(num_arms)\n",
        "\n",
        "cumulative_reward = 0\n",
        "average_rewards = [0] * num_arms\n",
        "\n",
        "# Perform the trials\n",
        "for t in range(1, num_trials + 1):\n",
        "    # Select the machine with the highest estimated reward (greedy action)\n",
        "    action = np.argmax(estimates)\n",
        "\n",
        "    # Simulate the reward (sample from a normal distribution around the true mean)\n",
        "    reward = np.random.normal(true_means[action], 1)\n",
        "\n",
        "    counts[action] += 1\n",
        "    cumulative_reward += reward\n",
        "\n",
        "    estimates[action] += (reward - estimates[action]) / counts[action]\n",
        "\n",
        "    for arm in range(num_arms):\n",
        "        average_rewards[arm] += (reward - average_rewards[arm]) / t\n",
        "\n",
        "# Print cumulative reward and average rewards per machine\n",
        "print(f\"Average Reward: {average_rewards[i]:.2f}\")\n",
        "for i in range(num_arms):\n",
        "    print(f\"Machine {chr(97+i)} - True Mean: {true_means[i]}, Estimated Mean: {estimates[i]:.2f}, \"\n",
        "          f\"Times Selected: {counts[i]}\")"
      ],
      "metadata": {
        "colab": {
          "base_uri": "https://localhost:8080/"
        },
        "id": "_BTwzdw9hEFw",
        "outputId": "4d55c880-d8da-46fa-bb70-af552269384d"
      },
      "execution_count": null,
      "outputs": [
        {
          "output_type": "stream",
          "name": "stdout",
          "text": [
            "Average Reward: 4.00\n",
            "Machine a - True Mean: 4, Estimated Mean: 4.00, Times Selected: 1000.0\n",
            "Machine b - True Mean: 3, Estimated Mean: 0.00, Times Selected: 0.0\n",
            "Machine c - True Mean: 5, Estimated Mean: 0.00, Times Selected: 0.0\n",
            "Machine d - True Mean: 7, Estimated Mean: 0.00, Times Selected: 0.0\n",
            "Machine e - True Mean: 2, Estimated Mean: 0.00, Times Selected: 0.0\n"
          ]
        }
      ]
    }
  ]
}